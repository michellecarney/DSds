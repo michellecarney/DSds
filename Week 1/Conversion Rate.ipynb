{
 "cells": [
  {
   "cell_type": "markdown",
   "metadata": {},
   "source": [
    "# Conversion Rate Challenge\n",
    "## Data Science Directed Study\n",
    "### michelle.carney@berkeley.edu\n",
    "\n",
    "We have data about users who hit our site: whether they converted or not as well as some of their characteristics such as their country, the marketing channel, their age, whether they are repeated users and the number of pages visited during that session (as a proxy for site activity/time spent on the site).\n",
    "\n",
    "Your project is to:\n",
    " - Predict Conversion Rate (# conversions / total sessions)\n",
    " - Come up with recommendations for the product team and the marketing team to improve the conversion rate\n",
    " \n",
    " \n",
    "Columns:\n",
    "\n",
    "- country : user country based on the IP address\n",
    "\n",
    "- age : user age. Self-reported at sign-in step\n",
    "\n",
    "- new_user : whether the user created the account during this session or had already an account and simply came back to the site\n",
    "\n",
    "- source : marketing channel source\n",
    "\n",
    "  - Ads: came to the site by clicking on an advertisement\n",
    "  - Seo: came to the site by clicking on search results\n",
    "  - Direct: came to the site by directly typing the URL on the browser\n",
    "\n",
    "- total_pages_visited: number of total pages visited during the session. This is a proxy for time spent on site and engagement during the session.\n",
    "\n",
    "- converted: this is our label. 1 means they converted within the session, 0 means they left without buying anything. The company goal is to increase conversion rate: # conversions / total sessions."
   ]
  },
  {
   "cell_type": "code",
   "execution_count": 1,
   "metadata": {
    "collapsed": true
   },
   "outputs": [],
   "source": [
    "# Let's start with our imports\n",
    "\n",
    "import pandas as pd\n",
    "import numpy as np\n",
    "import random"
   ]
  },
  {
   "cell_type": "code",
   "execution_count": 13,
   "metadata": {
    "collapsed": false
   },
   "outputs": [
    {
     "data": {
      "text/html": [
       "<div>\n",
       "<table border=\"1\" class=\"dataframe\">\n",
       "  <thead>\n",
       "    <tr style=\"text-align: right;\">\n",
       "      <th></th>\n",
       "      <th>country</th>\n",
       "      <th>age</th>\n",
       "      <th>new_user</th>\n",
       "      <th>source</th>\n",
       "      <th>total_pages_visited</th>\n",
       "      <th>converted</th>\n",
       "    </tr>\n",
       "  </thead>\n",
       "  <tbody>\n",
       "    <tr>\n",
       "      <th>316195</th>\n",
       "      <td>US</td>\n",
       "      <td>26</td>\n",
       "      <td>1</td>\n",
       "      <td>Ads</td>\n",
       "      <td>9</td>\n",
       "      <td>0</td>\n",
       "    </tr>\n",
       "    <tr>\n",
       "      <th>316196</th>\n",
       "      <td>US</td>\n",
       "      <td>27</td>\n",
       "      <td>1</td>\n",
       "      <td>Direct</td>\n",
       "      <td>6</td>\n",
       "      <td>0</td>\n",
       "    </tr>\n",
       "    <tr>\n",
       "      <th>316197</th>\n",
       "      <td>China</td>\n",
       "      <td>25</td>\n",
       "      <td>0</td>\n",
       "      <td>Ads</td>\n",
       "      <td>4</td>\n",
       "      <td>0</td>\n",
       "    </tr>\n",
       "    <tr>\n",
       "      <th>316198</th>\n",
       "      <td>US</td>\n",
       "      <td>22</td>\n",
       "      <td>0</td>\n",
       "      <td>Seo</td>\n",
       "      <td>4</td>\n",
       "      <td>0</td>\n",
       "    </tr>\n",
       "    <tr>\n",
       "      <th>316199</th>\n",
       "      <td>UK</td>\n",
       "      <td>24</td>\n",
       "      <td>0</td>\n",
       "      <td>Ads</td>\n",
       "      <td>4</td>\n",
       "      <td>0</td>\n",
       "    </tr>\n",
       "  </tbody>\n",
       "</table>\n",
       "</div>"
      ],
      "text/plain": [
       "       country  age  new_user  source  total_pages_visited  converted\n",
       "316195      US   26         1     Ads                    9          0\n",
       "316196      US   27         1  Direct                    6          0\n",
       "316197   China   25         0     Ads                    4          0\n",
       "316198      US   22         0     Seo                    4          0\n",
       "316199      UK   24         0     Ads                    4          0"
      ]
     },
     "execution_count": 13,
     "metadata": {},
     "output_type": "execute_result"
    }
   ],
   "source": [
    "# Let's load the data and investigate in pandas\n",
    "\n",
    "df = pd.read_csv(\"conversion_data.csv\")\n",
    "df.tail()\n",
    "# len(df)"
   ]
  },
  {
   "cell_type": "markdown",
   "metadata": {},
   "source": [
    "We can see that there are 316200 rows, or 316199 individual entries\n",
    "\n",
    "From the "
   ]
  }
 ],
 "metadata": {
  "kernelspec": {
   "display_name": "Python [Root]",
   "language": "python",
   "name": "Python [Root]"
  },
  "language_info": {
   "codemirror_mode": {
    "name": "ipython",
    "version": 3
   },
   "file_extension": ".py",
   "mimetype": "text/x-python",
   "name": "python",
   "nbconvert_exporter": "python",
   "pygments_lexer": "ipython3",
   "version": "3.5.2"
  }
 },
 "nbformat": 4,
 "nbformat_minor": 0
}
